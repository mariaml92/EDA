{
 "cells": [
  {
   "cell_type": "markdown",
   "id": "b9868254",
   "metadata": {},
   "source": [
    "## Funciones utilizadas en el proyecto EDA"
   ]
  },
  {
   "cell_type": "markdown",
   "id": "29ef1ad9",
   "metadata": {},
   "source": [
    "#### Función de ajuste a una recta"
   ]
  },
  {
   "cell_type": "code",
   "execution_count": null,
   "id": "a5cf194b",
   "metadata": {},
   "outputs": [],
   "source": [
    "def f_recta(x, m, y0):\n",
    "    return m * x + y0"
   ]
  },
  {
   "cell_type": "markdown",
   "id": "a93269a0",
   "metadata": {},
   "source": [
    "#### Funciones utilizadas para hacer las gráficas"
   ]
  },
  {
   "cell_type": "markdown",
   "id": "ff739e8a",
   "metadata": {},
   "source": [
    "- Gráficos de barras"
   ]
  },
  {
   "cell_type": "code",
   "execution_count": null,
   "id": "ed1ac66c",
   "metadata": {},
   "outputs": [],
   "source": [
    "def grafico_barras(texto, titulo_grafico, titulo_x, titulo_y, xmin, xmax):\n",
    "    \n",
    "    color_g1 = '#b6e880'\n",
    "    color_g2 = '#19d3f3'\n",
    "    color_g3 = '#ff6692'\n",
    "    \n",
    "    fig = px.bar(tabla_indicadores.loc[tabla_indicadores['Año']=='2013'], x='Pais', y=texto, title=titulo_grafico, \n",
    "                 color='Pais',\n",
    "                 color_discrete_map={'Australia':color_g1,'United States of America':color_g1, 'Spain':color_g1, 'Japan':color_g1,\n",
    "                                     'Brazil':color_g2,'Romania':color_g2,'China':color_g2, 'Türkiye':color_g2,\n",
    "                                     'Morocco':color_g3, 'Honduras':color_g3,'Philippines':color_g3, 'Ukraine':color_g3})\n",
    "    fig.update_layout(xaxis_title=titulo_x, yaxis_title=titulo_y)\n",
    "    fig.update_layout(xaxis={'categoryorder':'total descending'})\n",
    "    fig.update_yaxes(range=[xmin, xmax])\n",
    "    fig.update_traces(showlegend=False)\n",
    "    \n",
    "    fig.show()"
   ]
  },
  {
   "cell_type": "markdown",
   "id": "07fabfb6",
   "metadata": {},
   "source": [
    "- Gráficos de líneas con regresión lineal"
   ]
  },
  {
   "cell_type": "code",
   "execution_count": null,
   "id": "8eaa2fbe",
   "metadata": {},
   "outputs": [],
   "source": [
    "def representar_grafico_glucosa(fig, row, col, codigo_pais):\n",
    "    años = tabla_indicadores.loc[tabla_indicadores['Codigo_Pais'] == codigo_pais]['Año'].astype(float, errors='raise')\n",
    "    \n",
    "    fig.add_trace(go.Scatter(x=años,\n",
    "                             y=tabla_indicadores.loc[tabla_indicadores['Codigo_Pais'] == codigo_pais]['PIB'],\n",
    "                             name=f'{codigo_pais}-PIB per cápita'),\n",
    "                     row=row, col=col, secondary_y=False)\n",
    "    fig.add_trace(go.Scatter(x=años,\n",
    "                             y=tabla_indicadores.loc[tabla_indicadores['Codigo_Pais'] == codigo_pais]['Glucosa'],\n",
    "                             name=f'{codigo_pais}-glucosa'),\n",
    "                     row=row, col=col, secondary_y=True)\n",
    "    \n",
    "    modelo = LinearRegression()\n",
    "    x_modelo = años.values.reshape(-1, 1)\n",
    "    y_modelo = tabla_indicadores.loc[tabla_indicadores['Codigo_Pais'] == codigo_pais]['Glucosa']\n",
    "    modelo.fit(X=x_modelo, y=y_modelo)\n",
    "    x_rango = np.linspace(x_modelo.min(), x_modelo.max())\n",
    "    y_rango = modelo.predict(x_rango.reshape(-1, 1))\n",
    "\n",
    "    fig.add_trace(go.Scatter(x=x_rango,\n",
    "                             y=y_rango,\n",
    "                             name=f'{codigo_pais}-regresión'),\n",
    "                  row=row, col=col, secondary_y=True)"
   ]
  },
  {
   "cell_type": "code",
   "execution_count": null,
   "id": "73a9c692",
   "metadata": {},
   "outputs": [],
   "source": [
    "def representar_grafico_hipertension(fig, row, col, codigo_pais):\n",
    "    años = tabla_indicadores.loc[tabla_indicadores['Codigo_Pais'] == codigo_pais]['Año'].astype(float, errors='raise')\n",
    "    \n",
    "    fig.add_trace(go.Scatter(x=años,\n",
    "                             y=tabla_indicadores.loc[tabla_indicadores['Codigo_Pais'] == codigo_pais]['PIB'],\n",
    "                             name=f'{codigo_pais}-PIB per cápita'),\n",
    "                     row=row, col=col, secondary_y=False)\n",
    "    fig.add_trace(go.Scatter(x=años,\n",
    "                             y=tabla_indicadores.loc[tabla_indicadores['Codigo_Pais'] == codigo_pais]['Hipertensión'],\n",
    "                             name=f'{codigo_pais}-hipertensión'),\n",
    "                     row=row, col=col, secondary_y=True)\n",
    "    \n",
    "    modelo = LinearRegression()\n",
    "    x_modelo = años.values.reshape(-1, 1)\n",
    "    y_modelo = tabla_indicadores.loc[tabla_indicadores['Codigo_Pais'] == codigo_pais]['Hipertensión']\n",
    "    modelo.fit(X=x_modelo, y=y_modelo)\n",
    "    x_rango = np.linspace(x_modelo.min(), x_modelo.max())\n",
    "    y_rango = modelo.predict(x_rango.reshape(-1, 1))\n",
    "    \n",
    "    fig.add_trace(go.Scatter(x=x_rango,\n",
    "                             y=y_rango,\n",
    "                             name=f'{codigo_pais}-regresión'),\n",
    "                  row=row, col=col, secondary_y=True)"
   ]
  },
  {
   "cell_type": "code",
   "execution_count": null,
   "id": "9927916e",
   "metadata": {},
   "outputs": [],
   "source": [
    "def representar_grafico_HDL(fig, row, col, codigo_pais):\n",
    "    años = tabla_indicadores.loc[tabla_indicadores['Codigo_Pais'] == codigo_pais]['Año'].astype(float, errors='raise')\n",
    "    \n",
    "    fig.add_trace(go.Scatter(x=años,\n",
    "                             y=tabla_indicadores.loc[tabla_indicadores['Codigo_Pais'] == codigo_pais]['PIB'],\n",
    "                             name=f'{codigo_pais}-PIB per cápita'),\n",
    "                     row=row, col=col, secondary_y=False)\n",
    "    fig.add_trace(go.Scatter(x=años,\n",
    "                             y=tabla_indicadores.loc[tabla_indicadores['Codigo_Pais'] == codigo_pais]['HDL'],\n",
    "                             name=f'{codigo_pais}-HDL'),\n",
    "                     row=row, col=col, secondary_y=True)\n",
    "    \n",
    "    modelo = LinearRegression()\n",
    "    x_modelo = años.values.reshape(-1, 1)\n",
    "    y_modelo = tabla_indicadores.loc[tabla_indicadores['Codigo_Pais'] == codigo_pais]['HDL']\n",
    "    modelo.fit(X=x_modelo, y=y_modelo)\n",
    "    x_rango = np.linspace(x_modelo.min(), x_modelo.max())\n",
    "    y_rango = modelo.predict(x_rango.reshape(-1, 1))\n",
    "\n",
    "    fig.add_trace(go.Scatter(x=x_rango,\n",
    "                             y=y_rango,\n",
    "                             name=f'{codigo_pais}-regresión'),\n",
    "                  row=row, col=col, secondary_y=True)"
   ]
  },
  {
   "cell_type": "code",
   "execution_count": null,
   "id": "6c0ad48e",
   "metadata": {},
   "outputs": [],
   "source": [
    "def representar_grafico_Sobrepeso(fig, row, col, codigo_pais):\n",
    "    años = tabla_indicadores.loc[tabla_indicadores['Codigo_Pais'] == codigo_pais]['Año'].astype(float, errors='raise')\n",
    "    \n",
    "    fig.add_trace(go.Scatter(x=años,\n",
    "                             y=tabla_indicadores.loc[tabla_indicadores['Codigo_Pais'] == codigo_pais]['PIB'],\n",
    "                             name=f'{codigo_pais}-PIB per cápita'),\n",
    "                     row=row, col=col, secondary_y=False)\n",
    "    fig.add_trace(go.Scatter(x=años,\n",
    "                             y=tabla_indicadores.loc[tabla_indicadores['Codigo_Pais'] == codigo_pais]['Sobrepeso'],\n",
    "                             name=f'{codigo_pais}-sobrepeso'),\n",
    "                     row=row, col=col, secondary_y=True)\n",
    "    \n",
    "    modelo = LinearRegression()\n",
    "    x_modelo = años.values.reshape(-1, 1)\n",
    "    y_modelo = tabla_indicadores.loc[tabla_indicadores['Codigo_Pais'] == codigo_pais]['Sobrepeso']\n",
    "    modelo.fit(X=x_modelo, y=y_modelo)\n",
    "    x_rango = np.linspace(x_modelo.min(), x_modelo.max())\n",
    "    y_rango = modelo.predict(x_rango.reshape(-1, 1))\n",
    "\n",
    "    fig.add_trace(go.Scatter(x=x_rango,\n",
    "                             y=y_rango,\n",
    "                             name=f'{codigo_pais}-regresión'),\n",
    "                  row=row, col=col, secondary_y=True)"
   ]
  },
  {
   "cell_type": "code",
   "execution_count": null,
   "id": "20ce7839",
   "metadata": {},
   "outputs": [],
   "source": [
    "def representar_grafico_SSU(fig, row, col, codigo_pais):\n",
    "    años = tabla_indicadores.loc[tabla_indicadores['Codigo_Pais'] == codigo_pais]['Año'].astype(float, errors='raise')\n",
    "    \n",
    "    fig.add_trace(go.Scatter(x=años,\n",
    "                             y=tabla_indicadores.loc[tabla_indicadores['Codigo_Pais'] == codigo_pais]['PIB'],\n",
    "                             name=f'{codigo_pais}-PIB per cápita'),\n",
    "                     row=row, col=col, secondary_y=False)\n",
    "    fig.add_trace(go.Scatter(x=años,\n",
    "                             y=tabla_indicadores.loc[tabla_indicadores['Codigo_Pais'] == codigo_pais]['SSU'],\n",
    "                             name=f'{codigo_pais}-SSU'),\n",
    "                     row=row, col=col, secondary_y=True)\n",
    "    \n",
    "    modelo = LinearRegression()\n",
    "    x_modelo = años.values.reshape(-1, 1)\n",
    "    y_modelo = tabla_indicadores.loc[tabla_indicadores['Codigo_Pais'] == codigo_pais]['SSU']\n",
    "    modelo.fit(X=x_modelo, y=y_modelo)\n",
    "    x_rango = np.linspace(x_modelo.min(), x_modelo.max())\n",
    "    y_rango = modelo.predict(x_rango.reshape(-1, 1))\n",
    "\n",
    "    fig.add_trace(go.Scatter(x=x_rango,\n",
    "                             y=y_rango,\n",
    "                             name=f'{codigo_pais}-regresión'),\n",
    "                  row=row, col=col, secondary_y=True)"
   ]
  },
  {
   "cell_type": "markdown",
   "id": "756313e5",
   "metadata": {},
   "source": [
    "- Gráficos de barras y líneas"
   ]
  },
  {
   "cell_type": "code",
   "execution_count": null,
   "id": "f54f4af8",
   "metadata": {},
   "outputs": [],
   "source": [
    "def grafico_barras_lineas(texto, titulo_grafico, titulo_x, titulo_y):\n",
    "    \n",
    "    color_g1 = '#b6e880'\n",
    "    color_g2 = '#19d3f3'\n",
    "    color_g3 = '#ff6692'\n",
    "\n",
    "    fig = make_subplots(rows=1, cols=1,\n",
    "                        subplot_titles=[titulo_grafico],\n",
    "                        specs=[[{'secondary_y': True}]])\n",
    "    \n",
    "    fig_1 = px.bar(tabla_indicadores.loc[tabla_indicadores['Año']=='2013'],\n",
    "                   x='Pais',\n",
    "                   y=texto,\n",
    "#                    title= f'{texto} por países',\n",
    "                   color='Pais',\n",
    "                   color_discrete_map={'Australia':color_g1,'United States of America':color_g1, 'Spain':color_g1, 'Japan':color_g1,\n",
    "                                       'Brazil':color_g2,'Romania':color_g2,'China':color_g2, 'Türkiye':color_g2,\n",
    "                                       'Morocco':color_g3, 'Honduras':color_g3,'Philippines':color_g3, 'Ukraine':color_g3})\n",
    "    fig_1.update_traces(width=0.7)\n",
    "\n",
    "    fig_2 = px.line(tabla_indicadores.loc[tabla_indicadores['Año']=='2013'],\n",
    "                    x='Pais',\n",
    "                    y='PIB')\n",
    "    fig_2.update_traces(yaxis='y2')\n",
    "    fig_2.update_traces(line_color='orange', line_width=2)\n",
    "\n",
    "    fig.add_traces(fig_1.data + fig_2.data)\n",
    "    fig.update_xaxes(title_text='País')\n",
    "    fig.update_yaxes(title_text=f'Niveles del  {texto.lower()}', secondary_y=False)\n",
    "    fig.update_yaxes(title_text='PIB per cápita (USD)', secondary_y=True)    \n",
    "\n",
    "    fig.add_annotation(dict(font=dict(color='black',size=10),\n",
    "                                            x=0,\n",
    "                                            y=-0.4,\n",
    "                                            showarrow=False,\n",
    "                                            text=f'Barras: {titulo_grafico} - Líneas: PIB per cápita',\n",
    "                                            textangle=0,\n",
    "                                            xanchor='left',\n",
    "                                            xref=\"paper\",\n",
    "                                            yref=\"paper\"))\n",
    "    fig.update_layout(xaxis_title=titulo_x, yaxis_title=titulo_y)\n",
    "    fig.update_traces(showlegend=False)\n",
    "\n",
    "\n",
    "    fig.show()\n",
    "    "
   ]
  },
  {
   "cell_type": "code",
   "execution_count": null,
   "id": "200ceec5",
   "metadata": {},
   "outputs": [],
   "source": []
  }
 ],
 "metadata": {
  "kernelspec": {
   "display_name": "Python 3 (ipykernel)",
   "language": "python",
   "name": "python3"
  },
  "language_info": {
   "codemirror_mode": {
    "name": "ipython",
    "version": 3
   },
   "file_extension": ".py",
   "mimetype": "text/x-python",
   "name": "python",
   "nbconvert_exporter": "python",
   "pygments_lexer": "ipython3",
   "version": "3.10.4"
  }
 },
 "nbformat": 4,
 "nbformat_minor": 5
}
